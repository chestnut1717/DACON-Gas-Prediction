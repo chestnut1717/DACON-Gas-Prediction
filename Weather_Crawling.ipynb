{
 "cells": [
  {
   "cell_type": "code",
   "execution_count": null,
   "id": "b9e648fe-fa11-44e3-b058-2d7b2caf2541",
   "metadata": {},
   "outputs": [],
   "source": []
  },
  {
   "cell_type": "code",
   "execution_count": 1,
   "id": "8ff6c62e-c181-4f1f-9f86-2d84af0bbc1c",
   "metadata": {},
   "outputs": [],
   "source": [
    "# import requests\n",
    "# from bs4 import BeautifulSoup\n",
    "\n",
    "# url = \"https://www.weather.go.kr/weather/observation/currentweather.jsp?type=t99&mode=0&stn=0&reg=100&auto_man=m&tm=2018.01.01.19:00&dtm=1\"\n",
    "# response = requests.get(url)\n",
    "\n",
    "# if response.status_code == 200:\n",
    "#     html = response.text\n",
    "#     soup = BeautifulSoup(html, 'html.parser')\n",
    "#     tmp = soup.select('#content_weather > table > tbody > tr:nth-child(42)>td')\n",
    "\n",
    "# else : \n",
    "#     print(response.status_code)"
   ]
  },
  {
   "cell_type": "code",
   "execution_count": null,
   "id": "46a74aaf-621a-40d0-8f17-93a7a8e8158b",
   "metadata": {},
   "outputs": [],
   "source": []
  },
  {
   "cell_type": "code",
   "execution_count": 221,
   "id": "5801affa-f176-417e-9ad9-949b29c6f772",
   "metadata": {},
   "outputs": [
    {
     "name": "stdout",
     "output_type": "stream",
     "text": [
      "2013.1.31\n",
      "1 1\n",
      "1 2\n",
      "1 3\n",
      "1 4\n",
      "1 5\n",
      "1 6\n",
      "1 7\n",
      "1 8\n",
      "1 9\n",
      "1 10\n",
      "1 11\n",
      "1 12\n",
      "1 13\n",
      "1 14\n",
      "1 15\n",
      "1 16\n",
      "1 17\n",
      "1 18\n",
      "1 19\n",
      "1 20\n",
      "1 21\n",
      "1 22\n",
      "1 23\n",
      "1 24\n",
      "1 25\n",
      "1 26\n",
      "1 27\n",
      "1 28\n",
      "1 29\n",
      "1 30\n",
      "1 31\n",
      "2013.2.28\n",
      "2 1\n",
      "2 2\n",
      "2 3\n",
      "2 4\n",
      "2 5\n",
      "2 6\n",
      "2 7\n",
      "2 8\n",
      "2 9\n",
      "2 10\n",
      "2 11\n",
      "2 12\n",
      "2 13\n",
      "2 14\n",
      "2 15\n",
      "2 16\n",
      "2 17\n",
      "2 18\n",
      "2 19\n",
      "2 20\n",
      "2 21\n",
      "2 22\n",
      "2 23\n",
      "2 24\n",
      "2 25\n",
      "2 26\n",
      "2 27\n",
      "2 28\n"
     ]
    }
   ],
   "source": [
    "import requests\n",
    "from bs4 import BeautifulSoup\n",
    "from collections import deque\n",
    "\n",
    "years = list(range(2013,2014))\n",
    "months = list(range(1,3))\n",
    "days = [31,28,31,30,31,30,31,31,30,31,30,31]\n",
    "\n",
    "whole_temp = []\n",
    "\n",
    "for year in years:\n",
    "    month_temp = []\n",
    "    for month, day in zip(months, days):\n",
    "\n",
    "        url = f\"https://www.weather.go.kr/weather/observation/currentweather.jsp?tm={year}.{month}.{day}.01:00&type=t11&mode=0&reg=109&auto_man=m&stn=108\"\n",
    "        print(f\"{year}.{month}.{day}\")\n",
    "        response = requests.get(url)\n",
    "\n",
    "        if response.status_code == 200:\n",
    "            html = response.text\n",
    "            soup = BeautifulSoup(html, 'html.parser')\n",
    "\n",
    "\n",
    "            # 각 날짜 찾기\n",
    "            day_hour_tr_list = []\n",
    "            for d in range(1, day+1):\n",
    "                day_hour_tr = soup.select(f'#content_weather > table > tbody > tr:nth-child({d})')\n",
    "                day_hour_tr_list.append(day_hour_tr)\n",
    "                print(month, d)\n",
    "            day_hour_tr_list.reverse()\n",
    "\n",
    "            for tr_tag in day_hour_tr_list:\n",
    "                tr_tag_real =  tr_tag[-1]\n",
    "                day_temp = []\n",
    "                \n",
    "                # 0~23시 append\n",
    "                for count, i in enumerate(tr_tag_real):\n",
    "                    txt = i.text\n",
    "                    for j in range(3, 50, 2):\n",
    "                        if j == count:\n",
    "                            day_temp.append(txt.strip())\n",
    "\n",
    "\n",
    "\n",
    "                month_temp.append(day_temp)\n",
    "        else : \n",
    "            print(response.status_code)\n",
    "    whole_temp.append(month_temp)"
   ]
  },
  {
   "cell_type": "code",
   "execution_count": 227,
   "id": "edd2ae04-2f6d-409c-8c3a-e959dda92ea0",
   "metadata": {},
   "outputs": [
    {
     "data": {
      "text/plain": [
       "['-6.5',\n",
       " '-7.0',\n",
       " '-7.3',\n",
       " '-7.5',\n",
       " '-7.7',\n",
       " '-7.9',\n",
       " '-8.1',\n",
       " '-8.0',\n",
       " '-7.6',\n",
       " '-6.7',\n",
       " '-5.6',\n",
       " '-3.4',\n",
       " '-3.6',\n",
       " '-3.0',\n",
       " '-2.8',\n",
       " '-3.1',\n",
       " '-3.5',\n",
       " '-4.3',\n",
       " '-5.0',\n",
       " '-5.2',\n",
       " '-5.9',\n",
       " '',\n",
       " '-7.4',\n",
       " '-7.6']"
      ]
     },
     "execution_count": 227,
     "metadata": {},
     "output_type": "execute_result"
    }
   ],
   "source": [
    "whole_temp[0][16]"
   ]
  },
  {
   "cell_type": "code",
   "execution_count": 235,
   "id": "c318234c-d8b3-4a09-8217-5f9567605577",
   "metadata": {},
   "outputs": [
    {
     "name": "stdout",
     "output_type": "stream",
     "text": [
      "2013 1\n",
      "2013 2\n",
      "2013 3\n",
      "2013 4\n",
      "2013 5\n",
      "2013 6\n",
      "2013 7\n",
      "2013 8\n",
      "2013 9\n",
      "2013 10\n",
      "2013 11\n",
      "2013 12\n",
      "2014 1\n",
      "2014 2\n",
      "2014 3\n",
      "2014 4\n",
      "2014 5\n",
      "2014 6\n",
      "2014 7\n",
      "2014 8\n",
      "2014 9\n",
      "2014 10\n",
      "2014 11\n",
      "2014 12\n",
      "2015 1\n",
      "2015 2\n",
      "2015 3\n",
      "2015 4\n",
      "2015 5\n",
      "2015 6\n",
      "2015 7\n",
      "2015 8\n",
      "2015 9\n",
      "2015 10\n",
      "2015 11\n",
      "2015 12\n",
      "2016 1\n",
      "2016 2\n",
      "2016 3\n",
      "2016 4\n",
      "2016 5\n",
      "2016 6\n",
      "2016 7\n",
      "2016 8\n",
      "2016 9\n",
      "2016 10\n",
      "2016 11\n",
      "2016 12\n",
      "2017 1\n",
      "2017 2\n",
      "2017 3\n",
      "2017 4\n",
      "2017 5\n",
      "2017 6\n",
      "2017 7\n",
      "2017 8\n",
      "2017 9\n",
      "2017 10\n",
      "2017 11\n",
      "2017 12\n",
      "2018 1\n",
      "2018 2\n",
      "2018 3\n",
      "2018 4\n",
      "2018 5\n",
      "2018 6\n",
      "2018 7\n",
      "2018 8\n",
      "2018 9\n",
      "2018 10\n",
      "2018 11\n",
      "2018 12\n"
     ]
    }
   ],
   "source": [
    "import requests\n",
    "from bs4 import BeautifulSoup\n",
    "from collections import deque\n",
    "\n",
    "years = list(range(2013,2019))\n",
    "months = list(range(1,13))\n",
    "days = [31,28,31,30,31,30,31,31,30,31,30,31]\n",
    "\n",
    "whole_temp = []\n",
    "\n",
    "for year in years:\n",
    "    month_temp = []\n",
    "    for month, day in zip(months, days):\n",
    "        print(year, month)\n",
    "\n",
    "        url = f\"https://www.weather.go.kr/weather/observation/currentweather.jsp?tm={year}.{month}.{day}.01:00&type=t11&mode=0&reg=109&auto_man=m&stn=108\"\n",
    "        response = requests.get(url)\n",
    "\n",
    "        if response.status_code == 200:\n",
    "            html = response.text\n",
    "            soup = BeautifulSoup(html, 'html.parser')\n",
    "\n",
    "\n",
    "            # 각 날짜 찾기\n",
    "            day_hour_tr_list = []\n",
    "            for d in range(1, day+1):\n",
    "                day_hour_tr = soup.select(f'#content_weather > table > tbody > tr:nth-child({d})')\n",
    "                day_hour_tr_list.append(day_hour_tr)\n",
    "            day_hour_tr_list.reverse()\n",
    "\n",
    "            for tr_tag in day_hour_tr_list:\n",
    "                tr_tag_real =  tr_tag[-1]\n",
    "                day_temp = []\n",
    "                \n",
    "                # 0~23시 append\n",
    "                for count, i in enumerate(tr_tag_real):\n",
    "                    txt = i.text\n",
    "                    for j in range(3, 50, 2):\n",
    "                        if j == count:\n",
    "                            whole_temp.append(txt.strip())\n",
    "\n",
    "\n",
    "\n",
    "#                 month_temp.append(day_temp)\n",
    "        else : \n",
    "            print(response.status_code)\n",
    "#     whole_temp.append(month_temp)"
   ]
  },
  {
   "cell_type": "code",
   "execution_count": 236,
   "id": "8ded60f4-6a1d-43cb-ae6a-0cdbd8117527",
   "metadata": {},
   "outputs": [
    {
     "data": {
      "text/plain": [
       "52560"
      ]
     },
     "execution_count": 236,
     "metadata": {},
     "output_type": "execute_result"
    }
   ],
   "source": [
    "len(whole_temp)"
   ]
  },
  {
   "cell_type": "code",
   "execution_count": 237,
   "id": "47af9fd5-c8a8-4426-85d4-eceadb1996c9",
   "metadata": {},
   "outputs": [],
   "source": [
    "import pandas as pd\n",
    "import numpy as np\n",
    "import matplotlib.pyplot as plt\n",
    "import seaborn as sns\n",
    "from tqdm import tqdm\n",
    "import warnings\n",
    "import datetime\n",
    "warnings.filterwarnings('ignore')\n",
    "plt.rc('font', family='Malgun Gothic') \n"
   ]
  },
  {
   "cell_type": "code",
   "execution_count": 238,
   "id": "366fa0c5-91e4-417a-8d8d-16b53af7716c",
   "metadata": {},
   "outputs": [],
   "source": [
    "# datetime을 index로 옮겨주는 함수\n",
    "def datetime_revise(df):\n",
    "    # python datetime에서는 시간을 0~23시까지밖에 인식을 못하기 때문에 1을 빼준다.\n",
    "    df.index = pd.to_datetime(df['datetime']) + pd.to_timedelta(df['hour'], unit='hours')\n",
    "    df.drop(['year', 'month', 'day', 'weekday', 'hour', 'datetime'], axis=1, inplace=True)\n",
    "    return df"
   ]
  },
  {
   "cell_type": "code",
   "execution_count": 239,
   "id": "d6435d72-560c-42e0-b496-f87b118c905f",
   "metadata": {},
   "outputs": [],
   "source": [
    "# 시계열 분석을 위해 target값만을 뽑음\n",
    "def make_df(df, colname):\n",
    "    df = df.query(f'supplys == \"{colname}\"')\n",
    "    return df['target']"
   ]
  },
  {
   "cell_type": "code",
   "execution_count": 240,
   "id": "2a1412a6-7815-4d11-9266-a63dff8b299e",
   "metadata": {},
   "outputs": [],
   "source": [
    "# upsamplingm downsampling해줄 수 있도록 하는 함수\n",
    "def set_freq(df, freq='m'):\n",
    "    return pd.DataFrame(df.resample(freq).sum())"
   ]
  },
  {
   "cell_type": "code",
   "execution_count": 242,
   "id": "4be62b0a-e444-4533-8950-0e37b007dc6d",
   "metadata": {},
   "outputs": [
    {
     "data": {
      "text/html": [
       "<div>\n",
       "<style scoped>\n",
       "    .dataframe tbody tr th:only-of-type {\n",
       "        vertical-align: middle;\n",
       "    }\n",
       "\n",
       "    .dataframe tbody tr th {\n",
       "        vertical-align: top;\n",
       "    }\n",
       "\n",
       "    .dataframe thead th {\n",
       "        text-align: right;\n",
       "    }\n",
       "</style>\n",
       "<table border=\"1\" class=\"dataframe\">\n",
       "  <thead>\n",
       "    <tr style=\"text-align: right;\">\n",
       "      <th></th>\n",
       "      <th>supplys</th>\n",
       "      <th>avg_temp</th>\n",
       "      <th>mini_temp</th>\n",
       "      <th>max_temp</th>\n",
       "      <th>target</th>\n",
       "    </tr>\n",
       "  </thead>\n",
       "  <tbody>\n",
       "    <tr>\n",
       "      <th>2013-01-01 01:00:00</th>\n",
       "      <td>A</td>\n",
       "      <td>-3.2</td>\n",
       "      <td>-9.1</td>\n",
       "      <td>2.6</td>\n",
       "      <td>2497.129</td>\n",
       "    </tr>\n",
       "    <tr>\n",
       "      <th>2013-01-01 02:00:00</th>\n",
       "      <td>A</td>\n",
       "      <td>-3.2</td>\n",
       "      <td>-9.1</td>\n",
       "      <td>2.6</td>\n",
       "      <td>2363.265</td>\n",
       "    </tr>\n",
       "    <tr>\n",
       "      <th>2013-01-01 03:00:00</th>\n",
       "      <td>A</td>\n",
       "      <td>-3.2</td>\n",
       "      <td>-9.1</td>\n",
       "      <td>2.6</td>\n",
       "      <td>2258.505</td>\n",
       "    </tr>\n",
       "    <tr>\n",
       "      <th>2013-01-01 04:00:00</th>\n",
       "      <td>A</td>\n",
       "      <td>-3.2</td>\n",
       "      <td>-9.1</td>\n",
       "      <td>2.6</td>\n",
       "      <td>2243.969</td>\n",
       "    </tr>\n",
       "    <tr>\n",
       "      <th>2013-01-01 05:00:00</th>\n",
       "      <td>A</td>\n",
       "      <td>-3.2</td>\n",
       "      <td>-9.1</td>\n",
       "      <td>2.6</td>\n",
       "      <td>2344.105</td>\n",
       "    </tr>\n",
       "  </tbody>\n",
       "</table>\n",
       "</div>"
      ],
      "text/plain": [
       "                    supplys  avg_temp  mini_temp  max_temp    target\n",
       "2013-01-01 01:00:00       A      -3.2       -9.1       2.6  2497.129\n",
       "2013-01-01 02:00:00       A      -3.2       -9.1       2.6  2363.265\n",
       "2013-01-01 03:00:00       A      -3.2       -9.1       2.6  2258.505\n",
       "2013-01-01 04:00:00       A      -3.2       -9.1       2.6  2243.969\n",
       "2013-01-01 05:00:00       A      -3.2       -9.1       2.6  2344.105"
      ]
     },
     "execution_count": 242,
     "metadata": {},
     "output_type": "execute_result"
    }
   ],
   "source": [
    "total = pd.read_csv('data/no_outlier_data.csv')\n",
    "total = datetime_revise(total)\n",
    "total.head()\n"
   ]
  },
  {
   "cell_type": "code",
   "execution_count": 244,
   "id": "4cafddf2-ba96-49db-9264-d58fa4717f3f",
   "metadata": {},
   "outputs": [],
   "source": [
    "colname = total['supplys'].unique().tolist()"
   ]
  },
  {
   "cell_type": "code",
   "execution_count": 248,
   "id": "cbf0ab49-f39e-4a09-9cee-0b9ad49b3834",
   "metadata": {},
   "outputs": [
    {
     "data": {
      "text/html": [
       "<div>\n",
       "<style scoped>\n",
       "    .dataframe tbody tr th:only-of-type {\n",
       "        vertical-align: middle;\n",
       "    }\n",
       "\n",
       "    .dataframe tbody tr th {\n",
       "        vertical-align: top;\n",
       "    }\n",
       "\n",
       "    .dataframe thead th {\n",
       "        text-align: right;\n",
       "    }\n",
       "</style>\n",
       "<table border=\"1\" class=\"dataframe\">\n",
       "  <thead>\n",
       "    <tr style=\"text-align: right;\">\n",
       "      <th></th>\n",
       "      <th>target</th>\n",
       "    </tr>\n",
       "  </thead>\n",
       "  <tbody>\n",
       "    <tr>\n",
       "      <th>2013-01-01 01:00:00</th>\n",
       "      <td>2169.093</td>\n",
       "    </tr>\n",
       "    <tr>\n",
       "      <th>2013-01-01 02:00:00</th>\n",
       "      <td>2051.733</td>\n",
       "    </tr>\n",
       "    <tr>\n",
       "      <th>2013-01-01 03:00:00</th>\n",
       "      <td>1923.253</td>\n",
       "    </tr>\n",
       "    <tr>\n",
       "      <th>2013-01-01 04:00:00</th>\n",
       "      <td>1927.253</td>\n",
       "    </tr>\n",
       "    <tr>\n",
       "      <th>2013-01-01 05:00:00</th>\n",
       "      <td>2047.333</td>\n",
       "    </tr>\n",
       "    <tr>\n",
       "      <th>...</th>\n",
       "      <td>...</td>\n",
       "    </tr>\n",
       "    <tr>\n",
       "      <th>2018-12-31 20:00:00</th>\n",
       "      <td>2668.688</td>\n",
       "    </tr>\n",
       "    <tr>\n",
       "      <th>2018-12-31 21:00:00</th>\n",
       "      <td>2606.681</td>\n",
       "    </tr>\n",
       "    <tr>\n",
       "      <th>2018-12-31 22:00:00</th>\n",
       "      <td>2540.169</td>\n",
       "    </tr>\n",
       "    <tr>\n",
       "      <th>2018-12-31 23:00:00</th>\n",
       "      <td>2407.945</td>\n",
       "    </tr>\n",
       "    <tr>\n",
       "      <th>2019-01-01 00:00:00</th>\n",
       "      <td>2290.154</td>\n",
       "    </tr>\n",
       "  </tbody>\n",
       "</table>\n",
       "<p>52584 rows × 1 columns</p>\n",
       "</div>"
      ],
      "text/plain": [
       "                       target\n",
       "2013-01-01 01:00:00  2169.093\n",
       "2013-01-01 02:00:00  2051.733\n",
       "2013-01-01 03:00:00  1923.253\n",
       "2013-01-01 04:00:00  1927.253\n",
       "2013-01-01 05:00:00  2047.333\n",
       "...                       ...\n",
       "2018-12-31 20:00:00  2668.688\n",
       "2018-12-31 21:00:00  2606.681\n",
       "2018-12-31 22:00:00  2540.169\n",
       "2018-12-31 23:00:00  2407.945\n",
       "2019-01-01 00:00:00  2290.154\n",
       "\n",
       "[52584 rows x 1 columns]"
      ]
     },
     "execution_count": 248,
     "metadata": {},
     "output_type": "execute_result"
    }
   ],
   "source": [
    "day_time_series = [set_freq(make_df(total, col), freq='h') for col in colname]\n",
    "day_time_series[1]"
   ]
  },
  {
   "cell_type": "code",
   "execution_count": 266,
   "id": "ca08c65a-0f22-4c4b-b378-2e5a6aeae5b7",
   "metadata": {},
   "outputs": [
    {
     "data": {
      "text/plain": [
       "target    0.0\n",
       "Name: 2016-02-29 03:00:00, dtype: float64"
      ]
     },
     "execution_count": 266,
     "metadata": {},
     "output_type": "execute_result"
    }
   ],
   "source": [
    "day_time_series[0].iloc[1418+8760+8760+8760]"
   ]
  },
  {
   "cell_type": "code",
   "execution_count": 274,
   "id": "98b3d8bd-fcd9-409f-90ef-f60f8ae77b24",
   "metadata": {},
   "outputs": [],
   "source": [
    "A_df = day_time_series[0]\n",
    "new_A_df = A_df[A_df['target'] != 0]"
   ]
  },
  {
   "cell_type": "code",
   "execution_count": null,
   "id": "54b67b1a-6220-43eb-866a-cdf914f1f37a",
   "metadata": {},
   "outputs": [],
   "source": []
  },
  {
   "cell_type": "code",
   "execution_count": 277,
   "id": "545e01a2-3f20-4d64-83df-e2f02b68e184",
   "metadata": {},
   "outputs": [
    {
     "ename": "ValueError",
     "evalue": "could not convert string to float: ''",
     "output_type": "error",
     "traceback": [
      "\u001b[1;31m---------------------------------------------------------------------------\u001b[0m",
      "\u001b[1;31mValueError\u001b[0m                                Traceback (most recent call last)",
      "\u001b[1;32m~\\AppData\\Local\\Temp/ipykernel_5956/3924063844.py\u001b[0m in \u001b[0;36m<module>\u001b[1;34m\u001b[0m\n\u001b[1;32m----> 1\u001b[1;33m \u001b[0mwhole_temp_num\u001b[0m \u001b[1;33m=\u001b[0m \u001b[1;33m[\u001b[0m\u001b[0mfloat\u001b[0m\u001b[1;33m(\u001b[0m\u001b[0mnum\u001b[0m\u001b[1;33m)\u001b[0m \u001b[1;32mfor\u001b[0m \u001b[0mnum\u001b[0m \u001b[1;32min\u001b[0m \u001b[0mwhole_temp\u001b[0m\u001b[1;33m]\u001b[0m\u001b[1;33m\u001b[0m\u001b[1;33m\u001b[0m\u001b[0m\n\u001b[0m",
      "\u001b[1;32m~\\AppData\\Local\\Temp/ipykernel_5956/3924063844.py\u001b[0m in \u001b[0;36m<listcomp>\u001b[1;34m(.0)\u001b[0m\n\u001b[1;32m----> 1\u001b[1;33m \u001b[0mwhole_temp_num\u001b[0m \u001b[1;33m=\u001b[0m \u001b[1;33m[\u001b[0m\u001b[0mfloat\u001b[0m\u001b[1;33m(\u001b[0m\u001b[0mnum\u001b[0m\u001b[1;33m)\u001b[0m \u001b[1;32mfor\u001b[0m \u001b[0mnum\u001b[0m \u001b[1;32min\u001b[0m \u001b[0mwhole_temp\u001b[0m\u001b[1;33m]\u001b[0m\u001b[1;33m\u001b[0m\u001b[1;33m\u001b[0m\u001b[0m\n\u001b[0m",
      "\u001b[1;31mValueError\u001b[0m: could not convert string to float: ''"
     ]
    }
   ],
   "source": []
  },
  {
   "cell_type": "code",
   "execution_count": 288,
   "id": "7b6a095a-9613-4401-8429-6b40b57f0e93",
   "metadata": {},
   "outputs": [],
   "source": [
    "#숫자와 결측치 넣어줘서 변경\n",
    "import numpy as np\n",
    "whole_temp_num = []\n",
    "for num in whole_temp:\n",
    "\n",
    "    if num != '' :\n",
    "        after = float(num)\n",
    "        whole_temp_num.append(after)\n",
    "    else:\n",
    "        whole_temp_num.append(np.nan)"
   ]
  },
  {
   "cell_type": "code",
   "execution_count": 289,
   "id": "a71f565a-185c-4ad1-9882-71dc4405c93f",
   "metadata": {},
   "outputs": [
    {
     "data": {
      "text/plain": [
       "52560"
      ]
     },
     "execution_count": 289,
     "metadata": {},
     "output_type": "execute_result"
    }
   ],
   "source": [
    "len(whole_temp_num)"
   ]
  },
  {
   "cell_type": "code",
   "execution_count": 290,
   "id": "07802ef1-2175-4946-9b64-f3fde8f364ae",
   "metadata": {},
   "outputs": [
    {
     "data": {
      "text/html": [
       "<div>\n",
       "<style scoped>\n",
       "    .dataframe tbody tr th:only-of-type {\n",
       "        vertical-align: middle;\n",
       "    }\n",
       "\n",
       "    .dataframe tbody tr th {\n",
       "        vertical-align: top;\n",
       "    }\n",
       "\n",
       "    .dataframe thead th {\n",
       "        text-align: right;\n",
       "    }\n",
       "</style>\n",
       "<table border=\"1\" class=\"dataframe\">\n",
       "  <thead>\n",
       "    <tr style=\"text-align: right;\">\n",
       "      <th></th>\n",
       "      <th>target</th>\n",
       "      <th>temp</th>\n",
       "    </tr>\n",
       "  </thead>\n",
       "  <tbody>\n",
       "    <tr>\n",
       "      <th>2013-01-01 01:00:00</th>\n",
       "      <td>2497.129</td>\n",
       "      <td>-8.5</td>\n",
       "    </tr>\n",
       "    <tr>\n",
       "      <th>2013-01-01 02:00:00</th>\n",
       "      <td>2363.265</td>\n",
       "      <td>-8.4</td>\n",
       "    </tr>\n",
       "    <tr>\n",
       "      <th>2013-01-01 03:00:00</th>\n",
       "      <td>2258.505</td>\n",
       "      <td>-8.1</td>\n",
       "    </tr>\n",
       "    <tr>\n",
       "      <th>2013-01-01 04:00:00</th>\n",
       "      <td>2243.969</td>\n",
       "      <td>-8.2</td>\n",
       "    </tr>\n",
       "    <tr>\n",
       "      <th>2013-01-01 05:00:00</th>\n",
       "      <td>2344.105</td>\n",
       "      <td>-8.2</td>\n",
       "    </tr>\n",
       "    <tr>\n",
       "      <th>...</th>\n",
       "      <td>...</td>\n",
       "      <td>...</td>\n",
       "    </tr>\n",
       "    <tr>\n",
       "      <th>2018-12-31 20:00:00</th>\n",
       "      <td>3040.868</td>\n",
       "      <td>-3.7</td>\n",
       "    </tr>\n",
       "    <tr>\n",
       "      <th>2018-12-31 21:00:00</th>\n",
       "      <td>2973.577</td>\n",
       "      <td>-4.6</td>\n",
       "    </tr>\n",
       "    <tr>\n",
       "      <th>2018-12-31 22:00:00</th>\n",
       "      <td>2840.272</td>\n",
       "      <td>-5.4</td>\n",
       "    </tr>\n",
       "    <tr>\n",
       "      <th>2018-12-31 23:00:00</th>\n",
       "      <td>2692.385</td>\n",
       "      <td>-5.2</td>\n",
       "    </tr>\n",
       "    <tr>\n",
       "      <th>2019-01-01 00:00:00</th>\n",
       "      <td>2583.340</td>\n",
       "      <td>-5.5</td>\n",
       "    </tr>\n",
       "  </tbody>\n",
       "</table>\n",
       "<p>52560 rows × 2 columns</p>\n",
       "</div>"
      ],
      "text/plain": [
       "                       target  temp\n",
       "2013-01-01 01:00:00  2497.129  -8.5\n",
       "2013-01-01 02:00:00  2363.265  -8.4\n",
       "2013-01-01 03:00:00  2258.505  -8.1\n",
       "2013-01-01 04:00:00  2243.969  -8.2\n",
       "2013-01-01 05:00:00  2344.105  -8.2\n",
       "...                       ...   ...\n",
       "2018-12-31 20:00:00  3040.868  -3.7\n",
       "2018-12-31 21:00:00  2973.577  -4.6\n",
       "2018-12-31 22:00:00  2840.272  -5.4\n",
       "2018-12-31 23:00:00  2692.385  -5.2\n",
       "2019-01-01 00:00:00  2583.340  -5.5\n",
       "\n",
       "[52560 rows x 2 columns]"
      ]
     },
     "execution_count": 290,
     "metadata": {},
     "output_type": "execute_result"
    }
   ],
   "source": [
    "# df에 넣는다\n",
    "new_A_df['temp'] = whole_temp_num\n",
    "new_A_df"
   ]
  },
  {
   "cell_type": "code",
   "execution_count": 292,
   "id": "0ea5a0f0-db6a-4fce-ab35-7f060c346978",
   "metadata": {},
   "outputs": [
    {
     "data": {
      "text/plain": [
       "target    721.897\n",
       "temp       11.900\n",
       "Name: 2015-04-25 01:00:00, dtype: float64"
      ]
     },
     "execution_count": 292,
     "metadata": {},
     "output_type": "execute_result"
    }
   ],
   "source": [
    "new_A_df.iloc[20256]"
   ]
  },
  {
   "cell_type": "code",
   "execution_count": 301,
   "id": "0a7bd799-963f-46bb-8233-6e9d88624cc3",
   "metadata": {},
   "outputs": [],
   "source": [
    "new_A_df[['temp']].to_csv(\"data/temperature_hour.csv\", index=True)"
   ]
  },
  {
   "cell_type": "code",
   "execution_count": null,
   "id": "bcf78a60-cbc3-48d2-be65-6bb2c305d97a",
   "metadata": {},
   "outputs": [],
   "source": []
  },
  {
   "cell_type": "code",
   "execution_count": 302,
   "id": "6870254a-3df5-433c-9036-bfb8b3e58df7",
   "metadata": {},
   "outputs": [
    {
     "data": {
      "text/html": [
       "<div>\n",
       "<style scoped>\n",
       "    .dataframe tbody tr th:only-of-type {\n",
       "        vertical-align: middle;\n",
       "    }\n",
       "\n",
       "    .dataframe tbody tr th {\n",
       "        vertical-align: top;\n",
       "    }\n",
       "\n",
       "    .dataframe thead th {\n",
       "        text-align: right;\n",
       "    }\n",
       "</style>\n",
       "<table border=\"1\" class=\"dataframe\">\n",
       "  <thead>\n",
       "    <tr style=\"text-align: right;\">\n",
       "      <th></th>\n",
       "      <th>target</th>\n",
       "      <th>temp</th>\n",
       "    </tr>\n",
       "  </thead>\n",
       "  <tbody>\n",
       "    <tr>\n",
       "      <th>target</th>\n",
       "      <td>1.000000</td>\n",
       "      <td>-0.827773</td>\n",
       "    </tr>\n",
       "    <tr>\n",
       "      <th>temp</th>\n",
       "      <td>-0.827773</td>\n",
       "      <td>1.000000</td>\n",
       "    </tr>\n",
       "  </tbody>\n",
       "</table>\n",
       "</div>"
      ],
      "text/plain": [
       "          target      temp\n",
       "target  1.000000 -0.827773\n",
       "temp   -0.827773  1.000000"
      ]
     },
     "execution_count": 302,
     "metadata": {},
     "output_type": "execute_result"
    }
   ],
   "source": []
  },
  {
   "cell_type": "code",
   "execution_count": null,
   "id": "73b4f89d-43d5-4268-9a6c-1d832e9398f3",
   "metadata": {},
   "outputs": [],
   "source": []
  }
 ],
 "metadata": {
  "kernelspec": {
   "display_name": "Python 3 (ipykernel)",
   "language": "python",
   "name": "python3"
  },
  "language_info": {
   "codemirror_mode": {
    "name": "ipython",
    "version": 3
   },
   "file_extension": ".py",
   "mimetype": "text/x-python",
   "name": "python",
   "nbconvert_exporter": "python",
   "pygments_lexer": "ipython3",
   "version": "3.8.12"
  }
 },
 "nbformat": 4,
 "nbformat_minor": 5
}
